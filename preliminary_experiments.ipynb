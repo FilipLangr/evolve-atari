{
 "cells": [
  {
   "cell_type": "markdown",
   "metadata": {},
   "source": [
    "<h2>OpenAI gym CartPole experiment</h2>"
   ]
  },
  {
   "cell_type": "code",
   "execution_count": 1,
   "metadata": {},
   "outputs": [],
   "source": [
    "import gym\n",
    "import numpy as np"
   ]
  },
  {
   "cell_type": "code",
   "execution_count": 2,
   "metadata": {},
   "outputs": [],
   "source": [
    "def simulate(weights, env, num_episodes=1, timesteps=200, render=False):\n",
    "    avg_value = 0\n",
    "    for i_episode in range(num_episodes):\n",
    "        observation = env.reset()\n",
    "        run_reward = 0\n",
    "        for t in range(timesteps):\n",
    "            if render:\n",
    "                env.render()\n",
    "            action = int((np.sign(np.dot(observation, weights)) + 1) / 2.0)\n",
    "            observation, reward, done, info = env.step(action)\n",
    "            run_reward += reward\n",
    "            if done:\n",
    "                if render:\n",
    "                    print(\"Episode finished after {} timesteps.\".format(t+1))\n",
    "                break\n",
    "        value = run_reward / timesteps\n",
    "        avg_value += value\n",
    "    avg_value /= num_episodes\n",
    "    return avg_value"
   ]
  },
  {
   "cell_type": "code",
   "execution_count": 3,
   "metadata": {},
   "outputs": [],
   "source": [
    "def crossover(m1, m2, beta=0.5):\n",
    "    crossover_point = np.random.randint(0, m1.shape[0])\n",
    "    return np.append(m1[0:crossover_point], np.append(beta*m1[crossover_point] + (1-beta)*m2[crossover_point], m2[crossover_point + 1:]))"
   ]
  },
  {
   "cell_type": "code",
   "execution_count": 4,
   "metadata": {},
   "outputs": [],
   "source": [
    "def evolve(env, population_size=20, generations = 100, selection_ratio = 0.5, tournament_size = 3, crossover_beta=0.5, mutation_ratio=0.05):\n",
    "    new_population_size = int(selection_ratio * population_size)\n",
    "    offsprings_size = population_size - new_population_size\n",
    "    num_vars = env.observation_space.shape[0]\n",
    "    mutation_size = int(population_size * mutation_ratio)\n",
    "    \n",
    "    population = (np.random.rand(population_size, num_vars) * 2.0) - 1.0\n",
    "    best_value = -np.inf\n",
    "    best_individual = None\n",
    "    \n",
    "    for generation in range(generations + 1):\n",
    "        # Evaluation through simulation.\n",
    "        values = np.apply_along_axis(simulate, 1, population, env, num_episodes=20, timesteps=1000)\n",
    "        \n",
    "        # Get survivors based on selection_ratio.\n",
    "        indices = np.argsort(values)[::-1]\n",
    "        if values[indices[0]] > best_value:\n",
    "            best_individual = population[indices[0]]\n",
    "            best_value = values[indices[0]]\n",
    "        print(\"Gen %d, best value: %.3f\" % (generation, best_value))\n",
    "        if best_value > 0.99999:\n",
    "            return best_value, best_individual\n",
    "        survivors = population[indices[0 : new_population_size]]\n",
    "        survivors_values = values[indices[0 : new_population_size]]\n",
    "        \n",
    "        offsprings = np.empty(shape=(offsprings_size, num_vars))\n",
    "        # Run tournaments.\n",
    "        for tournament in range(new_population_size):\n",
    "            # Parent #1.\n",
    "            # Get members of the tournament #1.\n",
    "            members_inds = np.random.randint(0, new_population_size, tournament_size)\n",
    "            members_values = survivors_values[members_inds]\n",
    "            members = survivors[members_inds]\n",
    "            # Get the winner 1.\n",
    "            winner_1_index = np.argsort(members_values)[-1]\n",
    "            winner_1 = members[winner_1_index]\n",
    "            \n",
    "            # Parent #2.\n",
    "            # Get members of the tournament #2.\n",
    "            members_inds = np.random.randint(0, new_population_size, tournament_size)\n",
    "            members_values = survivors_values[members_inds]\n",
    "            members = survivors[members_inds]\n",
    "            # Get the winner 2.\n",
    "            winner_2_index = np.argsort(members_values)[-1]\n",
    "            winner_2 = members[winner_2_index]\n",
    "            \n",
    "            offspring = crossover(winner_1, winner_2, beta=crossover_beta)\n",
    "            offsprings[tournament] = offspring\n",
    "        \n",
    "        population = np.append(survivors, offsprings, axis=0)\n",
    "        \n",
    "        # Mutation\n",
    "        to_mutate_inds = np.random.randint(1, population_size, mutation_size)\n",
    "        for i in to_mutate_inds:\n",
    "            population[i] = (np.random.rand(num_vars) * 2.0) - 1.0\n",
    "        \n",
    "    env.close()\n",
    "    return best_value, best_individual"
   ]
  },
  {
   "cell_type": "code",
   "execution_count": 5,
   "metadata": {},
   "outputs": [
    {
     "name": "stdout",
     "output_type": "stream",
     "text": [
      "Gen 0, best value: 0.868\n",
      "Gen 1, best value: 0.901\n",
      "Gen 2, best value: 1.000\n"
     ]
    }
   ],
   "source": [
    "np.random.seed(1313)\n",
    "env = gym.make('CartPole-v0').env\n",
    "best_value, best_individual = evolve(env,\n",
    "                                     population_size=50,\n",
    "                                     generations=10,\n",
    "                                     tournament_size=8,\n",
    "                                     mutation_ratio=0.2)"
   ]
  },
  {
   "cell_type": "code",
   "execution_count": 6,
   "metadata": {},
   "outputs": [
    {
     "data": {
      "text/plain": [
       "1.0"
      ]
     },
     "execution_count": 6,
     "metadata": {},
     "output_type": "execute_result"
    }
   ],
   "source": [
    "ret = simulate(best_individual, env, num_episodes=1, timesteps=1000, render=True)\n",
    "env.close()\n",
    "ret"
   ]
  }
 ],
 "metadata": {
  "kernelspec": {
   "display_name": "Python 3",
   "language": "python",
   "name": "python3"
  },
  "language_info": {
   "codemirror_mode": {
    "name": "ipython",
    "version": 3
   },
   "file_extension": ".py",
   "mimetype": "text/x-python",
   "name": "python",
   "nbconvert_exporter": "python",
   "pygments_lexer": "ipython3",
   "version": "3.7.2"
  }
 },
 "nbformat": 4,
 "nbformat_minor": 2
}
